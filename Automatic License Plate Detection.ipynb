{
 "cells": [
  {
   "cell_type": "markdown",
   "id": "915c2309-66ba-47f4-b9f2-d2647e3fea64",
   "metadata": {},
   "source": [
    "# Import Libraries"
   ]
  },
  {
   "cell_type": "code",
   "execution_count": null,
   "id": "48e478e2-f7e8-48d4-a834-ad7d0a58a155",
   "metadata": {},
   "outputs": [],
   "source": [
    "import numpy as np\n",
    "import pandas as pd\n",
    "import matplotlib.pyplot as plt\n",
    "import os\n",
    "import cv2\n",
    "import tensorflow as tf\n",
    "import pytesseract as pt\n",
    "import glob\n",
    "import plotly.express as px\n",
    "\n",
    "from PIL import Image\n",
    "from xml.etree import ElementTree\n",
    "from sklearn.model_selection import train_test_split\n",
    "from tensorflow.keras.preprocessing.image import load_img, img_to_array\n",
    "from tensorflow.keras.applications import InceptionResNetV2\n",
    "from tensorflow.keras.models import Model\n",
    "from tensorflow.keras.layers import Dense, Dropout, Flatten, Input\n",
    "from tensorflow.keras.optimizers import Adam\n",
    "from tensorflow.keras.callbacks import TensorBoard"
   ]
  },
  {
   "cell_type": "markdown",
   "id": "a4284864-f499-4953-80d8-185f78ebd2bf",
   "metadata": {},
   "source": [
    "# Load Data"
   ]
  },
  {
   "cell_type": "code",
   "execution_count": null,
   "id": "e52c16f2-05f7-47f7-b0d4-ef8aaddd3627",
   "metadata": {},
   "outputs": [],
   "source": [
    "data_dir = \"/mnt/hdd/Datasets/automatic_plate_number_detection/images\""
   ]
  },
  {
   "cell_type": "code",
   "execution_count": null,
   "id": "a0b77dd7-2270-4982-b63a-83f174e8b3f9",
   "metadata": {},
   "outputs": [],
   "source": [
    "xml_files = glob.glob(f\"{data_dir}/*.xml\")"
   ]
  },
  {
   "cell_type": "code",
   "execution_count": null,
   "id": "324ca448-514d-4e6a-bd38-ca4c4f6764a8",
   "metadata": {},
   "outputs": [],
   "source": [
    "filepath = []\n",
    "xmin = []\n",
    "xmax = []\n",
    "ymin = []\n",
    "ymax = []\n",
    "heights = []\n",
    "widths = []\n",
    "\n",
    "for xml_file in xml_files:\n",
    "    info = ElementTree.parse(xml_file)\n",
    "    root = info.getroot()\n",
    "    object = root.find(\"object\")\n",
    "    file_path = root.find(\"filename\").text\n",
    "    file_path = os.path.join(data_dir, file_path)\n",
    "    height = Image.open(file_path).height\n",
    "    width = Image.open(file_path).width\n",
    "    label = object.find(\"bndbox\")\n",
    "\n",
    "    x_min = int(label.find(\"xmin\").text)\n",
    "    x_max = int(label.find(\"xmax\").text)\n",
    "    y_min = int(label.find(\"ymin\").text)\n",
    "    y_max = int(label.find(\"ymax\").text)\n",
    "\n",
    "    filepath.append(file_path)\n",
    "    heights.append(height)\n",
    "    widths.append(width)\n",
    "    xmin.append(x_min)\n",
    "    xmax.append(x_max)\n",
    "    ymin.append(y_min)\n",
    "    ymax.append(y_max)"
   ]
  },
  {
   "cell_type": "code",
   "execution_count": null,
   "id": "077706e3-95a5-4e1f-8f47-714eadc9746e",
   "metadata": {},
   "outputs": [],
   "source": [
    "df = pd.DataFrame({\"filepath\": filepath, \"height\": heights, \"width\": widths, \"xmin\": xmin, \"xmax\": xmax, \"ymin\": ymin, \"ymax\": ymax})\n",
    "df.head()"
   ]
  },
  {
   "cell_type": "code",
   "execution_count": null,
   "id": "82d3c07f-0988-4364-a419-6de8d76473c5",
   "metadata": {},
   "outputs": [],
   "source": [
    "df.to_csv(\"xml_df.csv\", index=False)"
   ]
  },
  {
   "cell_type": "code",
   "execution_count": null,
   "id": "6cce49e8-08e9-4a18-b3a8-2d5ad518a56a",
   "metadata": {},
   "outputs": [],
   "source": [
    "sample_idx = 1\n",
    "sample_filepath = df.loc[sample_idx][\"filepath\"]\n",
    "sample_width = df.loc[sample_idx][\"width\"]\n",
    "sample_height = df.loc[sample_idx][\"height\"]\n",
    "sample_xmin = df.loc[sample_idx][\"xmin\"]\n",
    "sample_xmax = df.loc[sample_idx][\"xmax\"]\n",
    "sample_ymin = df.loc[sample_idx][\"ymin\"]\n",
    "sample_ymax = df.loc[sample_idx][\"ymax\"]\n",
    "\n",
    "img = cv2.imread(sample_filepath)\n",
    "margin = dict(l=10, r=10, b=10, t=10)\n",
    "fig = px.imshow(img)\n",
    "fig.update_layout(width=sample_width, height=sample_height, margin=margin, title=f\"File - {sample_filepath.split('/')[-1]}\")\n",
    "fig.add_shape(type=\"rect\", x0=sample_xmin, x1=sample_xmax, y0=sample_ymin, y1=sample_ymax, xref=\"x\", yref=\"y\", line_color=\"cyan\")"
   ]
  },
  {
   "cell_type": "markdown",
   "id": "36dc8ddd-d2fa-4798-9c93-08d3c63f1697",
   "metadata": {},
   "source": [
    "# Data Preprocessing"
   ]
  },
  {
   "cell_type": "code",
   "execution_count": null,
   "id": "1d8360d4-1526-4042-bb83-574980dba165",
   "metadata": {},
   "outputs": [],
   "source": [
    "images = df[\"filepath\"].values"
   ]
  },
  {
   "cell_type": "code",
   "execution_count": null,
   "id": "e0f0dc17-826f-480c-b2f7-7171581a3da6",
   "metadata": {},
   "outputs": [],
   "source": [
    "a, b, c, d, e, f, g = df.loc[1]\n",
    "a, b, c, d, e, f, g"
   ]
  },
  {
   "cell_type": "code",
   "execution_count": null,
   "id": "94919d8b-cd82-4fe1-8aa7-5449f284c40b",
   "metadata": {},
   "outputs": [],
   "source": [
    "data = []\n",
    "labels = []\n",
    "\n",
    "for image_idx in range(len(images)):\n",
    "    img = load_img(images[image_idx], target_size=(224, 224))\n",
    "    img_arr = img_to_array(img)\n",
    "    normalized_img = img_arr / 255.0\n",
    "    _, h, w, x_min, x_max, y_min, y_max = df.loc[image_idx]\n",
    "    norm_xmin = x_min / w\n",
    "    norm_xmax = x_max / w\n",
    "    norm_ymin = y_min / h\n",
    "    norm_ymax = y_max / h\n",
    "    norm_label = (norm_xmin, norm_xmax, norm_ymin, norm_ymax)\n",
    "\n",
    "    data.append(normalized_img)\n",
    "    labels.append(norm_label)"
   ]
  },
  {
   "cell_type": "code",
   "execution_count": null,
   "id": "bfa95fb2-551d-46cf-af40-d45f282b30a5",
   "metadata": {},
   "outputs": [],
   "source": [
    "X = np.array(data, dtype=np.float32)\n",
    "y = np.array(labels, dtype=np.float32)"
   ]
  },
  {
   "cell_type": "code",
   "execution_count": null,
   "id": "595c293e-d285-4145-b2f2-0571d57bc977",
   "metadata": {},
   "outputs": [],
   "source": [
    "X_train, X_test, y_train, y_test = train_test_split(X, y, test_size=0.2, random_state=42)"
   ]
  },
  {
   "cell_type": "markdown",
   "id": "6b70ac28-39ed-4fb2-be2e-d9fbe105177c",
   "metadata": {},
   "source": [
    "# Model Training"
   ]
  },
  {
   "cell_type": "code",
   "execution_count": null,
   "id": "5060cce9-4b64-42ff-b9f2-0bf3a92422fc",
   "metadata": {},
   "outputs": [],
   "source": [
    "base_model = InceptionResNetV2(weights=\"imagenet\", include_top=False, input_shape=(224, 224, 3))"
   ]
  },
  {
   "cell_type": "code",
   "execution_count": null,
   "id": "186c56f3-9b1d-4415-a4f0-998c5f97415f",
   "metadata": {},
   "outputs": [],
   "source": [
    "x = base_model.output\n",
    "x = Flatten()(x)\n",
    "x = Dense(512, activation=\"relu\")(x)\n",
    "x = Dense(256, activation=\"relu\")(x)\n",
    "predictions = Dense(4, activation=\"sigmoid\")(x)\n",
    "\n",
    "model = Model(inputs=base_model.input, outputs=predictions)"
   ]
  },
  {
   "cell_type": "code",
   "execution_count": null,
   "id": "00e6ff1d-54c1-4a84-9939-f7eb757e0831",
   "metadata": {},
   "outputs": [],
   "source": [
    "model.compile(loss=\"mse\", optimizer=Adam(learning_rate=1e-4))"
   ]
  },
  {
   "cell_type": "code",
   "execution_count": null,
   "id": "29502242-dfef-4c0d-bd4e-b40af66b7f02",
   "metadata": {},
   "outputs": [],
   "source": [
    "board = TensorBoard(\"plate_detection\")"
   ]
  },
  {
   "cell_type": "code",
   "execution_count": null,
   "id": "53559b32-b49e-44fd-8441-bc6488b6d862",
   "metadata": {},
   "outputs": [],
   "source": [
    "history = model.fit(X_train, y_train, batch_size=10, epochs=50, validation_data=(X_test, y_test), callbacks=[board])"
   ]
  },
  {
   "cell_type": "code",
   "execution_count": null,
   "id": "00f1048b-7a26-47cd-8fd0-9dff69f05285",
   "metadata": {},
   "outputs": [],
   "source": [
    "model.save(\"plate_detection.h5\")"
   ]
  },
  {
   "cell_type": "markdown",
   "id": "fe626f9c-8a97-4882-8345-dd5f78c3dbb3",
   "metadata": {},
   "source": [
    "# Prediction"
   ]
  },
  {
   "cell_type": "code",
   "execution_count": null,
   "id": "b7710216-2a19-48a6-9629-84e4af246d80",
   "metadata": {},
   "outputs": [],
   "source": [
    "test_file = \"/mnt/hdd/Datasets/automatic_plate_number_detection/images/N25.jpeg\""
   ]
  },
  {
   "cell_type": "code",
   "execution_count": null,
   "id": "03391d23-b3f6-4219-bf0f-22a9b5e957fa",
   "metadata": {},
   "outputs": [],
   "source": [
    "def predict_plate_coords(filepath):\n",
    "    img = load_img(filepath, target_size=(224, 224))\n",
    "    img_arr = img_to_array(img)\n",
    "    normalized_img = img_arr / 255.0\n",
    "\n",
    "    h, w = Image.open(filepath).height, Image.open(filepath).width\n",
    "    normalized_img_arr = normalized_img.reshape(1, 224, 224, 3)\n",
    "\n",
    "    coords = model.predict(normalized_img_arr, verbose=0)\n",
    "\n",
    "    denorm = np.array([w, w, h, h])\n",
    "    coords = coords * denorm\n",
    "    coords = coords.astype(np.int32)\n",
    "\n",
    "    test_xmin, test_xmax, test_ymin, test_ymax = coords[0]\n",
    "    test_img = load_img(filepath)\n",
    "    test_img = np.array(test_img)\n",
    "    roi = test_img[test_xmin:test_xmax, test_ymin:test_ymax]\n",
    "    plate = pt.image_to_string(roi)\n",
    "\n",
    "    image = cv2.imread(filepath)\n",
    "    margin = dict(l=10, r=10, b=10, t=10)\n",
    "    fig = px.imshow(image)\n",
    "    fig.update_layout(width=w, height=h, margin=margin, title=f\"Predicted Plate: {plate}\")\n",
    "    fig.add_shape(type=\"rect\", x0=test_xmin, x1=test_xmax, y0=test_ymin, y1=test_ymax, xref=\"x\", yref=\"y\", line_color=\"green\")\n",
    "    fig.show()"
   ]
  },
  {
   "cell_type": "code",
   "execution_count": null,
   "id": "a90a40c9-38d1-4e83-a106-d6fa08c5b7c6",
   "metadata": {},
   "outputs": [],
   "source": [
    "predict_plate_coords(test_file)"
   ]
  },
  {
   "cell_type": "code",
   "execution_count": null,
   "id": "bca1be8e-779d-41a5-8192-2cf57dab0d31",
   "metadata": {},
   "outputs": [],
   "source": []
  }
 ],
 "metadata": {
  "kernelspec": {
   "display_name": "Python 3 (ipykernel)",
   "language": "python",
   "name": "python3"
  },
  "language_info": {
   "codemirror_mode": {
    "name": "ipython",
    "version": 3
   },
   "file_extension": ".py",
   "mimetype": "text/x-python",
   "name": "python",
   "nbconvert_exporter": "python",
   "pygments_lexer": "ipython3",
   "version": "3.10.12"
  }
 },
 "nbformat": 4,
 "nbformat_minor": 5
}
